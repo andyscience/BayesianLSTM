{
 "cells": [
  {
   "cell_type": "markdown",
   "metadata": {},
   "source": [
    "Modelo 40:\n",
    "\n",
    "Seasonal period = 24\n",
    "\n",
    "fución de activación lstm: tanh\n",
    "\n",
    "tendencia = 2017-2018 -> init_trend: '2018-01-01 00:00:00'\n",
    "\n",
    "dropout1 = 0.05   dropout2 = 0.05\n",
    "\n",
    "epochs = 100\n",
    "\n",
    "neurons 1 = 64\n",
    "\n",
    "neurons 2 = 32\n",
    "\n",
    "activation1 = Relu\n",
    "\n",
    "activation2 = Relu\n",
    "\n",
    "bias_initializer = 'ones'\n",
    "\n",
    "\n",
    "* En este script, voy a prescindir de extrapolar la tendencia y extrapolaré únicamente la estacionalidad del último año para entrenar el modelo. La parte T_t + R_t será el input de la red, más no únicamente R_t. A_t = T_t + R_t corresponde a la serie ajustada por la estacionalidad.\n",
    "\n",
    "* Hacer la modificación anterior implica cambiar la función get_inputs, de tal manera que devuelva la parte estacional y la tendencia y residuos juntos. Ya no será necesario el parámetro \"init_trend\", tampoco serán necesarias las funciones extra_season o extra_trend, pues el entrenamiento se realizará entero sobre todo el dataset, pues se separará la estacionalidad de la tendencia y los residuales, siendo estos dos últimos el input de la red.\n",
    "\n",
    "* Volvemos a seleccionar el rango [0,1] para los inputs de la red\n"
   ]
  },
  {
   "cell_type": "code",
   "execution_count": 1,
   "metadata": {},
   "outputs": [],
   "source": [
    "import numpy as np\n",
    "import pandas as pd\n",
    "import matplotlib.pyplot as plt\n",
    "from sklearn import preprocessing\n",
    "import seaborn as sns\n",
    "import scipy.stats as stats\n",
    "import pylab\n",
    "from stldecompose import decompose, forecast\n",
    "from sklearn.metrics import mean_absolute_error"
   ]
  },
  {
   "cell_type": "code",
   "execution_count": 2,
   "metadata": {},
   "outputs": [
    {
     "name": "stderr",
     "output_type": "stream",
     "text": [
      "Using TensorFlow backend.\n",
      "C:\\Anaconda3\\lib\\site-packages\\sklearn\\externals\\joblib\\__init__.py:15: FutureWarning: sklearn.externals.joblib is deprecated in 0.21 and will be removed in 0.23. Please import this functionality directly from joblib, which can be installed with: pip install joblib. If this warning is raised when loading pickled models, you may need to re-serialize those models with scikit-learn 0.21+.\n",
      "  warnings.warn(msg, category=FutureWarning)\n"
     ]
    }
   ],
   "source": [
    "import time\n",
    "from math import sqrt\n",
    "from sklearn.metrics import mean_squared_error\n",
    "from keras.models import Sequential\n",
    "from keras.layers import Dense\n",
    "from keras.layers import LSTM\n",
    "from keras.layers.core import Dropout\n",
    "from keras.layers.core import Activation\n",
    "import tensorflow as tf\n",
    "from keras.layers.core import Lambda #para funcion drop out permanente\n",
    "from keras import backend as K #para funcion drop out permanente\n",
    "from keras.utils import plot_model\n",
    "from keras.models import Model\n",
    "from keras.layers import Input\n",
    "from keras.layers import Dense\n",
    "from keras.layers.recurrent import LSTM\n",
    "from keras.layers import Input\n",
    "from keras.models import load_model\n",
    "from keras.callbacks import EarlyStopping\n",
    "from sklearn.externals import joblib "
   ]
  },
  {
   "cell_type": "markdown",
   "metadata": {},
   "source": [
    "# Clase Preprocesado"
   ]
  },
  {
   "cell_type": "code",
   "execution_count": 3,
   "metadata": {},
   "outputs": [],
   "source": [
    "def train_box_cox(data):\n",
    "    \n",
    "    '''Recibe un conjunto de datos para entrenar transformación de box cox\n",
    "    '''\n",
    "    \n",
    "    transformer = preprocessing.PowerTransformer(method='box-cox', standardize=False)\n",
    "    box_normalization = transformer.fit(np.array(train).reshape(-1,1))\n",
    "    \n",
    "    return box_normalization\n",
    "\n",
    "def plot_dist_qq(data):\n",
    "    '''Recibe un conjunto de datos, grafica su distribución y un gráfico QQ'''\n",
    "    \n",
    "    fig = plt.figure(figsize=(9, 3))\n",
    "    plt.subplot(121)\n",
    "    sns.distplot(data)\n",
    "    plt.subplot(122)\n",
    "    stats.probplot(data[0:,0], dist=\"norm\", plot=pylab)\n",
    "    \n",
    "    return fig\n",
    "    \n",
    "def decompose_data(observed, period):\n",
    "    \n",
    "    date = '2014-01-01'\n",
    "    index = pd.date_range(start=date, periods=len(observed), freq='H')\n",
    "    serie = pd.DataFrame(data = observed.round(5), columns = ['train'])\n",
    "    serie.index = index\n",
    "    serie_decomp = decompose(serie, period = period)\n",
    "    \n",
    "    return serie_decomp\n",
    "    \n",
    "def plot_decomposition(decomposition):\n",
    "    \n",
    "    fig, (ax1,ax2,ax3,ax4) = plt.subplots(4,1, figsize=(15,8))\n",
    "    decomposition.observed.plot(ax=ax1)\n",
    "    decomposition.trend.plot(ax=ax2)\n",
    "    decomposition.seasonal.plot(ax=ax3)\n",
    "    decomposition.resid.plot(ax=ax4)\n",
    "    \n",
    "    return fig\n",
    "\n",
    "#def plot_extra_trend(trend, extra_trend):\n",
    "    \n",
    "#    fig = plt.figure(figsize=(6, 3))\n",
    "#    plt.plot(np.concatenate((np.array(trend), extra_trend), axis = 0))\n",
    "       \n",
    "#    return fig\n",
    "\n",
    "\n",
    "#def extra_season(decomposition, init, last):\n",
    "    \n",
    "#    return decomposition.seasonal[init:]\n",
    "\n",
    "#def extra_trend(decomposition, init, periods):\n",
    "#    \n",
    "#    '''\n",
    "#    init: Fecha o índice a partir de donde se tomará la tendencia. Si es fecha debe tener formato: '2018-01-01 00:00:00'\n",
    "#    periods: el número de periodos de horas a extrapolar, equivalente a la longitud de los datos de validación (o test)\n",
    "#    \n",
    "#    '''\n",
    "#    \n",
    "#    diff = np.array(decomposition.trend[init:])[0] - np.array(decomposition.trend[init:])\n",
    "#    new_trend = np.array(decomposition.trend[:])[-1] - diff\n",
    "#    extra_trend = new_trend[0:periods]\n",
    "#        \n",
    "#    return extra_trend\n",
    "#    \n",
    "    \n",
    "def train_MinMax(data):\n",
    "    \n",
    "    '''Recibe un conjunto de datos para entrenar transformación de box cox\n",
    "    '''\n",
    "    \n",
    "    scaler = preprocessing.MinMaxScaler()\n",
    "    minmax_scaler = scaler.fit(data)\n",
    "    \n",
    "    return minmax_scaler\n",
    "\n",
    "\n",
    "def get_inputs(train, validation, period):\n",
    "    \n",
    "    train = np.array(train).reshape(-1,1)\n",
    "    box_cox = preprocessing.PowerTransformer(method='box-cox', standardize=False)\n",
    "    box_transformer = box_cox.fit(train) \n",
    "    train_normalized = box_transformer.transform(train)\n",
    "    plot_dist_qq(train_normalized)\n",
    "    \n",
    "    decompose = decompose_data(train_normalized, period = period)\n",
    "    plot_decomposition(decompose)\n",
    "    \n",
    "    seasonal = decompose.seasonal\n",
    "    trend = decompose.trend\n",
    "    resid = decompose.resid\n",
    "        \n",
    "    extra_season = seasonal[-len(validation):]\n",
    "    \n",
    "    validation_normalized = box_transformer.transform(np.array(validation).reshape(-1,1))\n",
    "    validation_resid_trend = validation_normalized - extra_season\n",
    "    validation_resid_trend = validation_normalized - extra_season\n",
    "    \n",
    "    scaler = preprocessing.MinMaxScaler(feature_range=(0,1))\n",
    "    target_scaler = scaler.fit(trend + resid)\n",
    "    \n",
    "    train_input = target_scaler.transform(trend + resid)\n",
    "    validation_input = target_scaler.transform(validation_resid_trend)\n",
    "    #validation_input[np.where(validation_input < 0)] = 0\n",
    "    \n",
    "    dict_return = {'train_input': train_input, 'validation_input': validation_input,\n",
    "                   'seasonal' : seasonal, 'trend': trend, 'resid': resid,\n",
    "                   'transformer1': box_transformer, 'transformer2': target_scaler}\n",
    "    #dict_return = {'train_input': train_input, 'validation_input': validation_input,\n",
    "    #               'seasonal' : seasonal, 'transformer1': box_transformer, \n",
    "    #               'transformer2': target_scaler}\n",
    "    \n",
    "    return dict_return"
   ]
  },
  {
   "cell_type": "markdown",
   "metadata": {},
   "source": [
    "# Clase Bayesian LSTM"
   ]
  },
  {
   "cell_type": "code",
   "execution_count": 19,
   "metadata": {},
   "outputs": [],
   "source": [
    "class BayesianLSTM():\n",
    "\n",
    "    def __init__(self):\n",
    "\n",
    "        self.look_back = 1\n",
    "        self.batch_size = 1\n",
    "        self.num_lstm = 1\n",
    "        self.input_data = []\n",
    "        self.output_data = []\n",
    "\n",
    "    def create_dataset(self, dataset, look_back):\n",
    "\n",
    "        self.look_back = look_back\n",
    "        dataX, dataY = [], []\n",
    "        for i in range(len(dataset) - look_back):\n",
    "            a = dataset[i:(i + look_back), 0]\n",
    "            dataX.append(a)\n",
    "            dataY.append(dataset[i + look_back, 0])\n",
    "\n",
    "        self.input_data = np.array(dataX)\n",
    "        self.output_data = np.array(dataY)\n",
    "\n",
    "        return self.input_data, self.output_data\n",
    "\n",
    "    def fit_model(self, x, y, num_lstm, epochs, neurons1, neurons2, neurons3,dropout1, dropout2):\n",
    "\n",
    "        self.num_lstm == num_lstm\n",
    "        batch_size = self.batch_size\n",
    "\n",
    "        x = x.reshape(x.shape[0], 1, x.shape[1])\n",
    "\n",
    "        input = Input(shape=(1, x.shape[2]), batch_shape=(batch_size, x.shape[1], x.shape[2]))\n",
    "        lstm1 = LSTM(neurons1, batch_input_shape=(batch_size, x.shape[1], x.shape[2]),\n",
    "                     stateful=True, \n",
    "                     activation=\"tanh\", recurrent_activation=\"sigmoid\",\n",
    "                     bias_initializer = \"ones\",\n",
    "                     kernel_initializer=\"random_normal\")(input)  \n",
    "        #drop = Dropout(dropout1)(lstm1, training=True)\n",
    "\n",
    "        if self.num_lstm == 2:\n",
    "            \n",
    "            lstm2 = LSTM(neurons2, batch_input_shape=(batch_size, x.shape[1], x.shape[2]),\n",
    "                         stateful=True,\n",
    "                         activation=\"tanh\", recurrent_activation=\"sigmoid\",\n",
    "                         kernel_initializer=\"random_normal\")(drop)\n",
    "            drop = Dropout(dropout2)(lstm2, training=True)\n",
    "            \n",
    "        if self.num_lstm == 3:\n",
    "            lstm2 = LSTM(neurons2, batch_input_shape=(batch_size, x.shape[1], x.shape[2]),\n",
    "                         stateful=True)(drop)\n",
    "            drop = Dropout(dropout2)(lstm2, training=True)\n",
    "            \n",
    "            lstm3 = LSTM(neurons3, batch_input_shape=(batch_size, x.shape[1], x.shape[2]),\n",
    "                         stateful=True)(drop)\n",
    "            drop = Dropout(dropout2)(lstm3, training=True)\n",
    "\n",
    "        dense1 = Dense(1)(lstm1)\n",
    "        out = Activation('relu')(dense1)\n",
    "\n",
    "        model = Model(inputs=input, outputs=out)\n",
    "        model.compile(loss='mse', optimizer='adam', metrics=['mse', 'mape'])\n",
    "        num_epoch = epochs\n",
    "\n",
    "        for i in range(num_epoch):\n",
    "            print('epoca:',i)\n",
    "            model.fit(x, y, epochs=1, batch_size=batch_size, verbose=1, shuffle=False)\n",
    "            model.reset_states\n",
    "\n",
    "        return model\n",
    "\n",
    "    #def bayesian_predict(self, x, n_experiments, model, transform_1, transform_2, season_trend_data):\n",
    "    def bayesian_predict(self, x, n_experiments, model, transform):\n",
    "        prediction_df = pd.DataFrame()\n",
    "        prediction_df['index'] = range(len(x))\n",
    "        x = x.reshape(x.shape[0], 1, x.shape[1])\n",
    "\n",
    "        for i in range(n_experiments):\n",
    "            experiment_predictions = model.predict(x, self.batch_size)\n",
    "            des_scaled = transform.inverse_transform(experiment_predictions)\n",
    "            print(i)\n",
    "            #des_decomp = des_scaled + season_trend_data\n",
    "            #des_normalized = transform_1.inverse_transform(des_decomp)\n",
    "            prediction_df['generation_{}'.format(i)] = des_scaled\n",
    "\n",
    "        df_generation = prediction_df.filter(like='generation', axis=1)\n",
    "        prediction_df['generation_mean'] = df_generation.mean(axis=1)\n",
    "        prediction_df['generation_std'] = df_generation.std(axis=1)\n",
    "        prediction_df = prediction_df[['generation_mean', 'generation_std']]\n",
    "\n",
    "        return prediction_df\n",
    "    \n",
    "    def bayesian_predict2(self, x, n_experiments, model, transform):\n",
    "        prediction_df = pd.DataFrame()\n",
    "        prediction_df['index'] = range(len(x))\n",
    "        x = x.reshape(x.shape[0], 1, x.shape[1])\n",
    "\n",
    "        for i in range(n_experiments):\n",
    "            experiment_predictions = model.predict(x, self.batch_size)\n",
    "            des_scaled = transform.inverse_transform(experiment_predictions)\n",
    "            print(i)\n",
    "            #des_decomp = des_scaled + season_trend_data\n",
    "            #des_normalized = transform_1.inverse_transform(des_decomp)\n",
    "            prediction_df['generation_{}'.format(i)] = des_scaled\n",
    "\n",
    "        df_generation = prediction_df.filter(like='generation', axis=1)\n",
    "        prediction_df['generation_mean'] = df_generation.mean(axis=1)\n",
    "        prediction_df['generation_median'] = df_generation.median(axis=1)\n",
    "        prediction_df['generation_std'] = df_generation.std(axis=1)\n",
    "        prediction_df = prediction_df[['generation_mean', 'generation_median', 'generation_std']]\n",
    "\n",
    "        return prediction_df\n",
    "    \n",
    "\n",
    "    def bayesianLSTM_plot(self, real, y_predicted, init_date):\n",
    "        \n",
    "        bayes_predicted = pd.DataFrame()\n",
    "        bayes_predicted['generation_mean'] = np.array(y_predicted.iloc[0:, 0])\n",
    "        bayes_predicted['generation_std'] = np.array(y_predicted.iloc[0:, 1])\n",
    "\n",
    "        date_plot = pd.date_range(init_date, periods=len(bayes_predicted), freq='H')\n",
    "        df_plot_pred = pd.DataFrame()\n",
    "\n",
    "        # predicted df\n",
    "        df_plot_pred['Fecha'] = date_plot\n",
    "        df_plot_pred['Datos'] = 'Predicción'\n",
    "        df_plot_pred['Generación Eólica (MW)'] = np.array(bayes_predicted['generation_mean'])\n",
    "\n",
    "        # real df\n",
    "        df_plot_real = pd.DataFrame()\n",
    "        df_plot_real['Fecha'] = date_plot\n",
    "        df_plot_real['Datos'] = 'Real'\n",
    "        df_plot_real['Generación Eólica (MW)'] = np.array(real)\n",
    "\n",
    "        # plot df\n",
    "\n",
    "        df_plot = pd.concat([df_plot_pred,\n",
    "                             df_plot_real], axis=0)\n",
    "\n",
    "        # plot error\n",
    "\n",
    "        error_df = pd.DataFrame()\n",
    "        error_df['Fecha'] = date_plot\n",
    "        error_df['lower_bound'] = np.array(bayes_predicted['generation_mean'] - 3 * bayes_predicted['generation_std'])\n",
    "        error_df['upper_bound'] = np.array(bayes_predicted['generation_mean'] + 3 * bayes_predicted['generation_std'])\n",
    "\n",
    "        plt.figure(figsize=(20, 12))\n",
    "        sns.set_style(\"white\")\n",
    "        plt.xlabel('Fecha')\n",
    "        plt.ylabel('Generación')\n",
    "        plt.fill_between(error_df.Fecha, error_df.lower_bound, error_df.upper_bound,\n",
    "                         color='gray', alpha=0.2)\n",
    "        sns.lineplot(x=\"Fecha\", y=\"Generación Eólica (MW)\", hue='Datos',\n",
    "                     data=df_plot)\n",
    "\n",
    "    def bayesianLSTM_plot2(self, real, y_predicted, init_date):\n",
    "        \n",
    "            bayes_predicted = pd.DataFrame()\n",
    "            bayes_predicted['generation_mean'] = np.array(y_predicted.iloc[0:, 0])\n",
    "            bayes_predicted['generation_median'] = np.array(y_predicted.iloc[0:, 1])\n",
    "            bayes_predicted['generation_std'] = np.array(y_predicted.iloc[0:, 2])\n",
    "\n",
    "            date_plot = pd.date_range(init_date, periods=len(bayes_predicted), freq='H')\n",
    "            df_mean_pred = pd.DataFrame()\n",
    "            df_median_pred = pd.DataFrame()\n",
    "            \n",
    "            # mean predicted df \n",
    "            df_mean_pred['Fecha'] = date_plot\n",
    "            df_mean_pred['Datos'] = 'Predicción (Media)'\n",
    "            df_mean_pred['Generación Eólica (MW)'] = np.array(bayes_predicted['generation_mean'])\n",
    "            \n",
    "            # median predicted df \n",
    "            df_median_pred['Fecha'] = date_plot\n",
    "            df_median_pred['Datos'] = 'Predicción (Mediana)'\n",
    "            df_median_pred['Generación Eólica (MW)'] = np.array(bayes_predicted['generation_median'])\n",
    "\n",
    "            # real df\n",
    "            df_plot_real = pd.DataFrame()\n",
    "            df_plot_real['Fecha'] = date_plot\n",
    "            df_plot_real['Datos'] = 'Real'\n",
    "            df_plot_real['Generación Eólica (MW)'] = np.array(real)\n",
    "\n",
    "            # plot df\n",
    "\n",
    "            df_plot = pd.concat([df_plot_real,\n",
    "                                 df_mean_pred,\n",
    "                                 df_median_pred], axis=0)\n",
    "\n",
    "            # plot error\n",
    "\n",
    "            error_df = pd.DataFrame()\n",
    "            error_df['Fecha'] = date_plot\n",
    "            error_df['lower_bound'] = np.array(bayes_predicted['generation_mean'] - 3 * bayes_predicted['generation_std'])\n",
    "            error_df['upper_bound'] = np.array(bayes_predicted['generation_mean'] + 3 * bayes_predicted['generation_std'])\n",
    "            error_df['middle_lower_bound'] = np.array(bayes_predicted['generation_mean'] - 2 * bayes_predicted['generation_std'])\n",
    "            error_df['middle_upper_bound'] = np.array(bayes_predicted['generation_mean'] + 2 * bayes_predicted['generation_std'])\n",
    "            \n",
    "            \n",
    "            lower_corrected = [0 if x < 0 else x for x in error_df['lower_bound']]\n",
    "            error_df['lower_bound'] = np.array(lower_corrected)\n",
    "            \n",
    "            middle_lower_corrected = [0 if x < 0 else x for x in error_df['middle_lower_bound']]\n",
    "            error_df['middle_lower_bound'] = np.array(middle_lower_corrected)\n",
    "            \n",
    "                      \n",
    "            plt.figure(figsize=(17, 9))\n",
    "            sns.set_style(\"white\")\n",
    "            plt.title('Predicción Generación Eólica (MW) - Última semana Datos de Validación', fontsize= 25)\n",
    "            plt.xlabel('Fecha',fontsize = 18)\n",
    "            plt.ylabel('Generación Eólica (MW)',fontsize = 18)\n",
    "            plt.xticks(fontsize= 12)\n",
    "            plt.yticks(fontsize= 12)\n",
    "            \n",
    "            plt.fill_between(error_df.Fecha, error_df.lower_bound, error_df.middle_lower_bound,\n",
    "                             color='gray', alpha=0.10)\n",
    "                        \n",
    "            plt.fill_between(error_df.Fecha, error_df.middle_lower_bound, error_df.middle_upper_bound,\n",
    "                             color='gray', alpha=0.15)\n",
    "            \n",
    "            plt.fill_between(error_df.Fecha, error_df.middle_upper_bound, error_df.upper_bound,\n",
    "                             color='gray', alpha=0.10)\n",
    "            \n",
    "           \n",
    "            g = sns.lineplot(x=\"Fecha\", y=\"Generación Eólica (MW)\", hue='Datos', style=\"Datos\",\n",
    "                         data=df_plot)\n",
    "            g.legend(loc='upper right',bbox_to_anchor=(1.175, 1.0),fontsize = 12)\n",
    "            \n",
    "            plt.savefig('Pronóstico Eólica Validation-lastweek.pdf',bbox_inches=\"tight\")\n",
    "            \n",
    "            \n",
    "#plt.figure(figsize=(15, 9))\n",
    "#sns.set_style(\"white\")\n",
    "#plt.title('Pronóstico Generación Eólica (MW)', fontsize= 25)\n",
    "##plt.figtext(.5,.9,'División del Dataset', fontsize=30, ha='center')\n",
    "#plt.xlabel('Fecha', fontsize = 18)\n",
    "#plt.ylabel('Generación Eólica (MW)', fontsize = 18)\n",
    "#plt.xticks(fontsize= 12)\n",
    "#plt.yticks(fontsize= 12)\n",
    "#g = sns.lineplot(x=\"Fecha\", y=\"Generación Eólica (MW)\", hue='Datos',\n",
    "#                     data=df_plot)\n",
    "#g.legend(loc='upper right',bbox_to_anchor=(1.13, 1.0),fontsize = 12)\n",
    "#plt.savefig('Division_dataset.pdf')"
   ]
  },
  {
   "cell_type": "markdown",
   "metadata": {},
   "source": [
    "# Clase Metrics"
   ]
  },
  {
   "cell_type": "code",
   "execution_count": 5,
   "metadata": {},
   "outputs": [],
   "source": [
    "class Metrics():\n",
    "\n",
    "  def __init__(self):\n",
    "    pass\n",
    "\n",
    "  def rmse(real, predicted):\n",
    "    return sqrt(mean_squared_error(real, predicted))\n",
    "\n",
    "  def smape(real, predicted):\n",
    "    return 100*np.sum(np.abs(predicted - real)) / np.sum(predicted + real)\n",
    "\n",
    "  def mape(real, predicted): \n",
    "    return np.mean(np.abs((real - predicted) / real)) * 100\n",
    "\n",
    "  def mae(real, predicted):\n",
    "    return mean_absolute_error(real, predicted)"
   ]
  },
  {
   "cell_type": "markdown",
   "metadata": {},
   "source": [
    "# Clase Naive "
   ]
  },
  {
   "cell_type": "code",
   "execution_count": 6,
   "metadata": {},
   "outputs": [],
   "source": [
    "class Naive():\n",
    "    \n",
    "    def __init__(self):\n",
    "        pass\n",
    "    \n",
    "    def create_data_set(self, data, len_train):\n",
    "        \n",
    "        '''Recibe una serie como input, la cual será dividida en train y test, la división se hará según\n",
    "        el parámetro que reciba len_train, el cual debe corresponder al tamaño que se espera del conjunto de \n",
    "        entrenamiento.\n",
    "        \n",
    "        Retorna un dataframe con X siendo la serie original y Y la serie desfasada 1 unidad'''\n",
    "        \n",
    "        values = pd.DataFrame(data)\n",
    "        dataset = pd.concat([values.shift(1), values], axis=1)\n",
    "        dataset.columns = ['t-1', 't+1']\n",
    "        dataset = dataset.values\n",
    "        \n",
    "        train, test = dataset[1:len_train], dataset[len_train:]\n",
    "        x_train, y_train = train[:,0], train[:,1]\n",
    "        x_test, y_test = test[:,0], test[:,1]\n",
    "        data = {'x_train': x_train, 'y_train': y_train, 'x_test': x_test, 'y_test': y_test }\n",
    "        \n",
    "        return data\n",
    "    \n",
    "    def model(self, x):\n",
    "        return x\n",
    "    \n",
    "    def prediction(self, data):\n",
    "        \n",
    "        predictions = list()\n",
    "        for x in data:\n",
    "            yhat = self.model(x)\n",
    "            predictions.append(yhat)\n",
    "\n",
    "        return predictions\n",
    "    \n"
   ]
  },
  {
   "cell_type": "markdown",
   "metadata": {},
   "source": [
    "# Tratamiento de datos y pre-procesado"
   ]
  },
  {
   "cell_type": "code",
   "execution_count": 7,
   "metadata": {},
   "outputs": [],
   "source": [
    "datafile = \"C:/Users/hcortazar/Documents/MDS_2019/TFM/TFM code/data_final.npz\"\n",
    "data = np.load(datafile)"
   ]
  },
  {
   "cell_type": "code",
   "execution_count": 8,
   "metadata": {},
   "outputs": [],
   "source": [
    "train = data['train']\n",
    "validation = data['validation']\n",
    "test = data['test']"
   ]
  },
  {
   "cell_type": "code",
   "execution_count": 9,
   "metadata": {},
   "outputs": [],
   "source": [
    "train_validation = np.concatenate((train,validation))"
   ]
  },
  {
   "cell_type": "code",
   "execution_count": 10,
   "metadata": {},
   "outputs": [],
   "source": [
    "scaler = preprocessing.MinMaxScaler() #Para modelo Modelo_40_test\n",
    "scaler = scaler.fit(train_validation.reshape(-1,1)) #Para modelo Modelo_40_test\n",
    "#scaler = preprocessing.MinMaxScaler()\n",
    "#scaler = scaler.fit(train.reshape(-1,1))"
   ]
  },
  {
   "cell_type": "code",
   "execution_count": 11,
   "metadata": {},
   "outputs": [],
   "source": [
    "train_validation_input = scaler.transform(train_validation.reshape(-1,1)) #Para modelo Modelo_40_test\n",
    "#train_input = scaler.transform(train.reshape(-1,1))"
   ]
  },
  {
   "cell_type": "code",
   "execution_count": 12,
   "metadata": {},
   "outputs": [],
   "source": [
    "test_input = scaler.transform(test.reshape(-1,1)) #Para modelo Modelo_40_test\n",
    "#test_input = scaler.transform(validation.reshape(-1,1))"
   ]
  },
  {
   "cell_type": "markdown",
   "metadata": {},
   "source": [
    "# Modelar y guardar"
   ]
  },
  {
   "cell_type": "code",
   "execution_count": 20,
   "metadata": {},
   "outputs": [],
   "source": [
    "bayes = BayesianLSTM()"
   ]
  },
  {
   "cell_type": "code",
   "execution_count": 14,
   "metadata": {},
   "outputs": [],
   "source": [
    "x, y = bayes.create_dataset(np.concatenate((train_validation_input,test_input)), 1) #Para Modelo_40_test\n",
    "#x, y = bayes.create_dataset(np.concatenate((train_input,test_input)), 1)"
   ]
  },
  {
   "cell_type": "code",
   "execution_count": 15,
   "metadata": {},
   "outputs": [],
   "source": [
    "x_train, y_train = x[:-len(test_input)], y[:-len(test_input)] #Para Modelo_40_test\n",
    "x_validation, y_validation = x[-len(test_input):], y[-len(test_input):] #Para Modelo_40_test\n",
    "\n",
    "#x_train, y_train = x[:-len(test_input):], y[:-len(test_input)] \n",
    "#x_validation, y_validation = x[-len(test_input):], y[-len(test_input):] "
   ]
  },
  {
   "cell_type": "code",
   "execution_count": 16,
   "metadata": {},
   "outputs": [
    {
     "data": {
      "text/plain": [
       "52583"
      ]
     },
     "execution_count": 16,
     "metadata": {},
     "output_type": "execute_result"
    }
   ],
   "source": [
    "len(x_train)"
   ]
  },
  {
   "cell_type": "code",
   "execution_count": 16,
   "metadata": {},
   "outputs": [
    {
     "data": {
      "text/plain": [
       "3647"
      ]
     },
     "execution_count": 16,
     "metadata": {},
     "output_type": "execute_result"
    }
   ],
   "source": [
    "len(x_validation)"
   ]
  },
  {
   "cell_type": "code",
   "execution_count": 17,
   "metadata": {},
   "outputs": [],
   "source": [
    "model_name = 'modelo_48_test_LSTM.pkl'"
   ]
  },
  {
   "cell_type": "code",
   "execution_count": 21,
   "metadata": {},
   "outputs": [
    {
     "name": "stdout",
     "output_type": "stream",
     "text": [
      "epoca: 0\n",
      "Epoch 1/1\n",
      "52583/52583 [==============================] - 121s 2ms/step - loss: 0.1366 - mse: 0.1366 - mape: 99.9981\n",
      "epoca: 1\n",
      "Epoch 1/1\n",
      "52583/52583 [==============================] - 123s 2ms/step - loss: 0.1366 - mse: 0.1366 - mape: 99.9981\n",
      "epoca: 2\n",
      "Epoch 1/1\n",
      "52583/52583 [==============================] - 123s 2ms/step - loss: 0.1366 - mse: 0.1366 - mape: 99.9981\n",
      "epoca: 3\n",
      "Epoch 1/1\n",
      "52583/52583 [==============================] - 124s 2ms/step - loss: 0.1366 - mse: 0.1366 - mape: 99.9981\n",
      "epoca: 4\n",
      "Epoch 1/1\n",
      "52583/52583 [==============================] - 127s 2ms/step - loss: 0.1366 - mse: 0.1366 - mape: 99.9981\n",
      "epoca: 5\n",
      "Epoch 1/1\n",
      "52583/52583 [==============================] - 128s 2ms/step - loss: 0.1366 - mse: 0.1366 - mape: 99.9981\n",
      "epoca: 6\n",
      "Epoch 1/1\n",
      "52583/52583 [==============================] - 119s 2ms/step - loss: 0.1366 - mse: 0.1366 - mape: 99.9981\n",
      "epoca: 7\n",
      "Epoch 1/1\n",
      "26404/52583 [==============>...............] - ETA: 59s - loss: 0.1355 - mse: 0.1355 - mape: 100.0000 "
     ]
    },
    {
     "ename": "KeyboardInterrupt",
     "evalue": "",
     "output_type": "error",
     "traceback": [
      "\u001b[1;31m---------------------------------------------------------------------------\u001b[0m",
      "\u001b[1;31mKeyboardInterrupt\u001b[0m                         Traceback (most recent call last)",
      "\u001b[1;32m<ipython-input-21-ba17200733f1>\u001b[0m in \u001b[0;36m<module>\u001b[1;34m\u001b[0m\n\u001b[0;32m      1\u001b[0m \u001b[0mt_0\u001b[0m \u001b[1;33m=\u001b[0m \u001b[0mtime\u001b[0m\u001b[1;33m.\u001b[0m\u001b[0mtime\u001b[0m\u001b[1;33m(\u001b[0m\u001b[1;33m)\u001b[0m\u001b[1;33m\u001b[0m\u001b[1;33m\u001b[0m\u001b[0m\n\u001b[0;32m      2\u001b[0m joblib.dump(bayes.fit_model(x = x_train, y = y_train, num_lstm = 1, epochs= 100, neurons1 = 64, neurons2 = 16, neurons3 = 16,\n\u001b[1;32m----> 3\u001b[1;33m                             dropout1= 0.0, dropout2= 0.00),\n\u001b[0m\u001b[0;32m      4\u001b[0m             model_name)\n\u001b[0;32m      5\u001b[0m \u001b[0mt_1\u001b[0m \u001b[1;33m=\u001b[0m \u001b[0mtime\u001b[0m\u001b[1;33m.\u001b[0m\u001b[0mtime\u001b[0m\u001b[1;33m(\u001b[0m\u001b[1;33m)\u001b[0m\u001b[1;33m\u001b[0m\u001b[1;33m\u001b[0m\u001b[0m\n",
      "\u001b[1;32m<ipython-input-19-187d0e2b3a0c>\u001b[0m in \u001b[0;36mfit_model\u001b[1;34m(self, x, y, num_lstm, epochs, neurons1, neurons2, neurons3, dropout1, dropout2)\u001b[0m\n\u001b[0;32m     64\u001b[0m         \u001b[1;32mfor\u001b[0m \u001b[0mi\u001b[0m \u001b[1;32min\u001b[0m \u001b[0mrange\u001b[0m\u001b[1;33m(\u001b[0m\u001b[0mnum_epoch\u001b[0m\u001b[1;33m)\u001b[0m\u001b[1;33m:\u001b[0m\u001b[1;33m\u001b[0m\u001b[1;33m\u001b[0m\u001b[0m\n\u001b[0;32m     65\u001b[0m             \u001b[0mprint\u001b[0m\u001b[1;33m(\u001b[0m\u001b[1;34m'epoca:'\u001b[0m\u001b[1;33m,\u001b[0m\u001b[0mi\u001b[0m\u001b[1;33m)\u001b[0m\u001b[1;33m\u001b[0m\u001b[1;33m\u001b[0m\u001b[0m\n\u001b[1;32m---> 66\u001b[1;33m             \u001b[0mmodel\u001b[0m\u001b[1;33m.\u001b[0m\u001b[0mfit\u001b[0m\u001b[1;33m(\u001b[0m\u001b[0mx\u001b[0m\u001b[1;33m,\u001b[0m \u001b[0my\u001b[0m\u001b[1;33m,\u001b[0m \u001b[0mepochs\u001b[0m\u001b[1;33m=\u001b[0m\u001b[1;36m1\u001b[0m\u001b[1;33m,\u001b[0m \u001b[0mbatch_size\u001b[0m\u001b[1;33m=\u001b[0m\u001b[0mbatch_size\u001b[0m\u001b[1;33m,\u001b[0m \u001b[0mverbose\u001b[0m\u001b[1;33m=\u001b[0m\u001b[1;36m1\u001b[0m\u001b[1;33m,\u001b[0m \u001b[0mshuffle\u001b[0m\u001b[1;33m=\u001b[0m\u001b[1;32mFalse\u001b[0m\u001b[1;33m)\u001b[0m\u001b[1;33m\u001b[0m\u001b[1;33m\u001b[0m\u001b[0m\n\u001b[0m\u001b[0;32m     67\u001b[0m             \u001b[0mmodel\u001b[0m\u001b[1;33m.\u001b[0m\u001b[0mreset_states\u001b[0m\u001b[1;33m\u001b[0m\u001b[1;33m\u001b[0m\u001b[0m\n\u001b[0;32m     68\u001b[0m \u001b[1;33m\u001b[0m\u001b[0m\n",
      "\u001b[1;32mC:\\Anaconda3\\lib\\site-packages\\keras\\engine\\training.py\u001b[0m in \u001b[0;36mfit\u001b[1;34m(self, x, y, batch_size, epochs, verbose, callbacks, validation_split, validation_data, shuffle, class_weight, sample_weight, initial_epoch, steps_per_epoch, validation_steps, validation_freq, max_queue_size, workers, use_multiprocessing, **kwargs)\u001b[0m\n\u001b[0;32m   1237\u001b[0m                                         \u001b[0msteps_per_epoch\u001b[0m\u001b[1;33m=\u001b[0m\u001b[0msteps_per_epoch\u001b[0m\u001b[1;33m,\u001b[0m\u001b[1;33m\u001b[0m\u001b[1;33m\u001b[0m\u001b[0m\n\u001b[0;32m   1238\u001b[0m                                         \u001b[0mvalidation_steps\u001b[0m\u001b[1;33m=\u001b[0m\u001b[0mvalidation_steps\u001b[0m\u001b[1;33m,\u001b[0m\u001b[1;33m\u001b[0m\u001b[1;33m\u001b[0m\u001b[0m\n\u001b[1;32m-> 1239\u001b[1;33m                                         validation_freq=validation_freq)\n\u001b[0m\u001b[0;32m   1240\u001b[0m \u001b[1;33m\u001b[0m\u001b[0m\n\u001b[0;32m   1241\u001b[0m     def evaluate(self,\n",
      "\u001b[1;32mC:\\Anaconda3\\lib\\site-packages\\keras\\engine\\training_arrays.py\u001b[0m in \u001b[0;36mfit_loop\u001b[1;34m(model, fit_function, fit_inputs, out_labels, batch_size, epochs, verbose, callbacks, val_function, val_inputs, shuffle, initial_epoch, steps_per_epoch, validation_steps, validation_freq)\u001b[0m\n\u001b[0;32m    194\u001b[0m                     \u001b[0mins_batch\u001b[0m\u001b[1;33m[\u001b[0m\u001b[0mi\u001b[0m\u001b[1;33m]\u001b[0m \u001b[1;33m=\u001b[0m \u001b[0mins_batch\u001b[0m\u001b[1;33m[\u001b[0m\u001b[0mi\u001b[0m\u001b[1;33m]\u001b[0m\u001b[1;33m.\u001b[0m\u001b[0mtoarray\u001b[0m\u001b[1;33m(\u001b[0m\u001b[1;33m)\u001b[0m\u001b[1;33m\u001b[0m\u001b[1;33m\u001b[0m\u001b[0m\n\u001b[0;32m    195\u001b[0m \u001b[1;33m\u001b[0m\u001b[0m\n\u001b[1;32m--> 196\u001b[1;33m                 \u001b[0mouts\u001b[0m \u001b[1;33m=\u001b[0m \u001b[0mfit_function\u001b[0m\u001b[1;33m(\u001b[0m\u001b[0mins_batch\u001b[0m\u001b[1;33m)\u001b[0m\u001b[1;33m\u001b[0m\u001b[1;33m\u001b[0m\u001b[0m\n\u001b[0m\u001b[0;32m    197\u001b[0m                 \u001b[0mouts\u001b[0m \u001b[1;33m=\u001b[0m \u001b[0mto_list\u001b[0m\u001b[1;33m(\u001b[0m\u001b[0mouts\u001b[0m\u001b[1;33m)\u001b[0m\u001b[1;33m\u001b[0m\u001b[1;33m\u001b[0m\u001b[0m\n\u001b[0;32m    198\u001b[0m                 \u001b[1;32mfor\u001b[0m \u001b[0ml\u001b[0m\u001b[1;33m,\u001b[0m \u001b[0mo\u001b[0m \u001b[1;32min\u001b[0m \u001b[0mzip\u001b[0m\u001b[1;33m(\u001b[0m\u001b[0mout_labels\u001b[0m\u001b[1;33m,\u001b[0m \u001b[0mouts\u001b[0m\u001b[1;33m)\u001b[0m\u001b[1;33m:\u001b[0m\u001b[1;33m\u001b[0m\u001b[1;33m\u001b[0m\u001b[0m\n",
      "\u001b[1;32mC:\\Anaconda3\\lib\\site-packages\\tensorflow_core\\python\\keras\\backend.py\u001b[0m in \u001b[0;36m__call__\u001b[1;34m(self, inputs)\u001b[0m\n\u001b[0;32m   3738\u001b[0m         \u001b[0mvalue\u001b[0m \u001b[1;33m=\u001b[0m \u001b[0mmath_ops\u001b[0m\u001b[1;33m.\u001b[0m\u001b[0mcast\u001b[0m\u001b[1;33m(\u001b[0m\u001b[0mvalue\u001b[0m\u001b[1;33m,\u001b[0m \u001b[0mtensor\u001b[0m\u001b[1;33m.\u001b[0m\u001b[0mdtype\u001b[0m\u001b[1;33m)\u001b[0m\u001b[1;33m\u001b[0m\u001b[1;33m\u001b[0m\u001b[0m\n\u001b[0;32m   3739\u001b[0m       \u001b[0mconverted_inputs\u001b[0m\u001b[1;33m.\u001b[0m\u001b[0mappend\u001b[0m\u001b[1;33m(\u001b[0m\u001b[0mvalue\u001b[0m\u001b[1;33m)\u001b[0m\u001b[1;33m\u001b[0m\u001b[1;33m\u001b[0m\u001b[0m\n\u001b[1;32m-> 3740\u001b[1;33m     \u001b[0moutputs\u001b[0m \u001b[1;33m=\u001b[0m \u001b[0mself\u001b[0m\u001b[1;33m.\u001b[0m\u001b[0m_graph_fn\u001b[0m\u001b[1;33m(\u001b[0m\u001b[1;33m*\u001b[0m\u001b[0mconverted_inputs\u001b[0m\u001b[1;33m)\u001b[0m\u001b[1;33m\u001b[0m\u001b[1;33m\u001b[0m\u001b[0m\n\u001b[0m\u001b[0;32m   3741\u001b[0m \u001b[1;33m\u001b[0m\u001b[0m\n\u001b[0;32m   3742\u001b[0m     \u001b[1;31m# EagerTensor.numpy() will often make a copy to ensure memory safety.\u001b[0m\u001b[1;33m\u001b[0m\u001b[1;33m\u001b[0m\u001b[1;33m\u001b[0m\u001b[0m\n",
      "\u001b[1;32mC:\\Anaconda3\\lib\\site-packages\\tensorflow_core\\python\\eager\\function.py\u001b[0m in \u001b[0;36m__call__\u001b[1;34m(self, *args, **kwargs)\u001b[0m\n\u001b[0;32m   1079\u001b[0m       \u001b[0mTypeError\u001b[0m\u001b[1;33m:\u001b[0m \u001b[0mFor\u001b[0m \u001b[0minvalid\u001b[0m \u001b[0mpositional\u001b[0m\u001b[1;33m/\u001b[0m\u001b[0mkeyword\u001b[0m \u001b[0margument\u001b[0m \u001b[0mcombinations\u001b[0m\u001b[1;33m.\u001b[0m\u001b[1;33m\u001b[0m\u001b[1;33m\u001b[0m\u001b[0m\n\u001b[0;32m   1080\u001b[0m     \"\"\"\n\u001b[1;32m-> 1081\u001b[1;33m     \u001b[1;32mreturn\u001b[0m \u001b[0mself\u001b[0m\u001b[1;33m.\u001b[0m\u001b[0m_call_impl\u001b[0m\u001b[1;33m(\u001b[0m\u001b[0margs\u001b[0m\u001b[1;33m,\u001b[0m \u001b[0mkwargs\u001b[0m\u001b[1;33m)\u001b[0m\u001b[1;33m\u001b[0m\u001b[1;33m\u001b[0m\u001b[0m\n\u001b[0m\u001b[0;32m   1082\u001b[0m \u001b[1;33m\u001b[0m\u001b[0m\n\u001b[0;32m   1083\u001b[0m   \u001b[1;32mdef\u001b[0m \u001b[0m_call_impl\u001b[0m\u001b[1;33m(\u001b[0m\u001b[0mself\u001b[0m\u001b[1;33m,\u001b[0m \u001b[0margs\u001b[0m\u001b[1;33m,\u001b[0m \u001b[0mkwargs\u001b[0m\u001b[1;33m,\u001b[0m \u001b[0mcancellation_manager\u001b[0m\u001b[1;33m=\u001b[0m\u001b[1;32mNone\u001b[0m\u001b[1;33m)\u001b[0m\u001b[1;33m:\u001b[0m\u001b[1;33m\u001b[0m\u001b[1;33m\u001b[0m\u001b[0m\n",
      "\u001b[1;32mC:\\Anaconda3\\lib\\site-packages\\tensorflow_core\\python\\eager\\function.py\u001b[0m in \u001b[0;36m_call_impl\u001b[1;34m(self, args, kwargs, cancellation_manager)\u001b[0m\n\u001b[0;32m   1119\u001b[0m       raise TypeError(\"Keyword arguments {} unknown. Expected {}.\".format(\n\u001b[0;32m   1120\u001b[0m           list(kwargs.keys()), list(self._arg_keywords)))\n\u001b[1;32m-> 1121\u001b[1;33m     \u001b[1;32mreturn\u001b[0m \u001b[0mself\u001b[0m\u001b[1;33m.\u001b[0m\u001b[0m_call_flat\u001b[0m\u001b[1;33m(\u001b[0m\u001b[0margs\u001b[0m\u001b[1;33m,\u001b[0m \u001b[0mself\u001b[0m\u001b[1;33m.\u001b[0m\u001b[0mcaptured_inputs\u001b[0m\u001b[1;33m,\u001b[0m \u001b[0mcancellation_manager\u001b[0m\u001b[1;33m)\u001b[0m\u001b[1;33m\u001b[0m\u001b[1;33m\u001b[0m\u001b[0m\n\u001b[0m\u001b[0;32m   1122\u001b[0m \u001b[1;33m\u001b[0m\u001b[0m\n\u001b[0;32m   1123\u001b[0m   \u001b[1;32mdef\u001b[0m \u001b[0m_filtered_call\u001b[0m\u001b[1;33m(\u001b[0m\u001b[0mself\u001b[0m\u001b[1;33m,\u001b[0m \u001b[0margs\u001b[0m\u001b[1;33m,\u001b[0m \u001b[0mkwargs\u001b[0m\u001b[1;33m)\u001b[0m\u001b[1;33m:\u001b[0m\u001b[1;33m\u001b[0m\u001b[1;33m\u001b[0m\u001b[0m\n",
      "\u001b[1;32mC:\\Anaconda3\\lib\\site-packages\\tensorflow_core\\python\\eager\\function.py\u001b[0m in \u001b[0;36m_call_flat\u001b[1;34m(self, args, captured_inputs, cancellation_manager)\u001b[0m\n\u001b[0;32m   1222\u001b[0m     \u001b[1;32mif\u001b[0m \u001b[0mexecuting_eagerly\u001b[0m\u001b[1;33m:\u001b[0m\u001b[1;33m\u001b[0m\u001b[1;33m\u001b[0m\u001b[0m\n\u001b[0;32m   1223\u001b[0m       flat_outputs = forward_function.call(\n\u001b[1;32m-> 1224\u001b[1;33m           ctx, args, cancellation_manager=cancellation_manager)\n\u001b[0m\u001b[0;32m   1225\u001b[0m     \u001b[1;32melse\u001b[0m\u001b[1;33m:\u001b[0m\u001b[1;33m\u001b[0m\u001b[1;33m\u001b[0m\u001b[0m\n\u001b[0;32m   1226\u001b[0m       \u001b[0mgradient_name\u001b[0m \u001b[1;33m=\u001b[0m \u001b[0mself\u001b[0m\u001b[1;33m.\u001b[0m\u001b[0m_delayed_rewrite_functions\u001b[0m\u001b[1;33m.\u001b[0m\u001b[0mregister\u001b[0m\u001b[1;33m(\u001b[0m\u001b[1;33m)\u001b[0m\u001b[1;33m\u001b[0m\u001b[1;33m\u001b[0m\u001b[0m\n",
      "\u001b[1;32mC:\\Anaconda3\\lib\\site-packages\\tensorflow_core\\python\\eager\\function.py\u001b[0m in \u001b[0;36mcall\u001b[1;34m(self, ctx, args, cancellation_manager)\u001b[0m\n\u001b[0;32m    509\u001b[0m               \u001b[0minputs\u001b[0m\u001b[1;33m=\u001b[0m\u001b[0margs\u001b[0m\u001b[1;33m,\u001b[0m\u001b[1;33m\u001b[0m\u001b[1;33m\u001b[0m\u001b[0m\n\u001b[0;32m    510\u001b[0m               \u001b[0mattrs\u001b[0m\u001b[1;33m=\u001b[0m\u001b[1;33m(\u001b[0m\u001b[1;34m\"executor_type\"\u001b[0m\u001b[1;33m,\u001b[0m \u001b[0mexecutor_type\u001b[0m\u001b[1;33m,\u001b[0m \u001b[1;34m\"config_proto\"\u001b[0m\u001b[1;33m,\u001b[0m \u001b[0mconfig\u001b[0m\u001b[1;33m)\u001b[0m\u001b[1;33m,\u001b[0m\u001b[1;33m\u001b[0m\u001b[1;33m\u001b[0m\u001b[0m\n\u001b[1;32m--> 511\u001b[1;33m               ctx=ctx)\n\u001b[0m\u001b[0;32m    512\u001b[0m         \u001b[1;32melse\u001b[0m\u001b[1;33m:\u001b[0m\u001b[1;33m\u001b[0m\u001b[1;33m\u001b[0m\u001b[0m\n\u001b[0;32m    513\u001b[0m           outputs = execute.execute_with_cancellation(\n",
      "\u001b[1;32mC:\\Anaconda3\\lib\\site-packages\\tensorflow_core\\python\\eager\\execute.py\u001b[0m in \u001b[0;36mquick_execute\u001b[1;34m(op_name, num_outputs, inputs, attrs, ctx, name)\u001b[0m\n\u001b[0;32m     59\u001b[0m     tensors = pywrap_tensorflow.TFE_Py_Execute(ctx._handle, device_name,\n\u001b[0;32m     60\u001b[0m                                                \u001b[0mop_name\u001b[0m\u001b[1;33m,\u001b[0m \u001b[0minputs\u001b[0m\u001b[1;33m,\u001b[0m \u001b[0mattrs\u001b[0m\u001b[1;33m,\u001b[0m\u001b[1;33m\u001b[0m\u001b[1;33m\u001b[0m\u001b[0m\n\u001b[1;32m---> 61\u001b[1;33m                                                num_outputs)\n\u001b[0m\u001b[0;32m     62\u001b[0m   \u001b[1;32mexcept\u001b[0m \u001b[0mcore\u001b[0m\u001b[1;33m.\u001b[0m\u001b[0m_NotOkStatusException\u001b[0m \u001b[1;32mas\u001b[0m \u001b[0me\u001b[0m\u001b[1;33m:\u001b[0m\u001b[1;33m\u001b[0m\u001b[1;33m\u001b[0m\u001b[0m\n\u001b[0;32m     63\u001b[0m     \u001b[1;32mif\u001b[0m \u001b[0mname\u001b[0m \u001b[1;32mis\u001b[0m \u001b[1;32mnot\u001b[0m \u001b[1;32mNone\u001b[0m\u001b[1;33m:\u001b[0m\u001b[1;33m\u001b[0m\u001b[1;33m\u001b[0m\u001b[0m\n",
      "\u001b[1;31mKeyboardInterrupt\u001b[0m: "
     ]
    }
   ],
   "source": [
    "t_0 = time.time()\n",
    "joblib.dump(bayes.fit_model(x = x_train, y = y_train, num_lstm = 1, epochs= 100, neurons1 = 64, neurons2 = 16, neurons3 = 16,\n",
    "                            dropout1= 0.0, dropout2= 0.00),\n",
    "            model_name)\n",
    "t_1 = time.time()\n",
    "\n",
    "print((t_1 - t_0)/60)"
   ]
  },
  {
   "cell_type": "markdown",
   "metadata": {},
   "source": [
    "# Cargar modelo"
   ]
  },
  {
   "cell_type": "code",
   "execution_count": 34,
   "metadata": {},
   "outputs": [],
   "source": [
    "model = joblib.load(model_name)"
   ]
  },
  {
   "cell_type": "markdown",
   "metadata": {},
   "source": [
    "# Predecir y Evaluar"
   ]
  },
  {
   "cell_type": "markdown",
   "metadata": {},
   "source": [
    "### Evaluación en validation"
   ]
  },
  {
   "cell_type": "code",
   "execution_count": 45,
   "metadata": {},
   "outputs": [
    {
     "name": "stdout",
     "output_type": "stream",
     "text": [
      "0\n"
     ]
    }
   ],
   "source": [
    "y_hat_validation = bayes.bayesian_predict2(np.concatenate((x_train,x_validation)), 1, model = model, transform= scaler)"
   ]
  },
  {
   "cell_type": "code",
   "execution_count": 48,
   "metadata": {
    "scrolled": true
   },
   "outputs": [
    {
     "name": "stdout",
     "output_type": "stream",
     "text": [
      "mape modelo: 7.076099664578396   rmse modelo: 451.920222612009    mae modelo: 319.9697071633283\n"
     ]
    }
   ],
   "source": [
    "#Errores sobre validation\n",
    "\n",
    "mape = Metrics.mape(test, np.array(y_hat_validation.iloc[-len(x_validation):,0].values))\n",
    "rmse = Metrics.rmse(test, np.array(y_hat_validation.iloc[-len(x_validation):,0].values))\n",
    "mae = Metrics.mae(test, np.array(y_hat_validation.iloc[-len(x_validation):,0].values))\n",
    "print('mape modelo: {}   rmse modelo: {}    mae modelo: {}'.format(mape,rmse,mae))"
   ]
  },
  {
   "cell_type": "code",
   "execution_count": 38,
   "metadata": {},
   "outputs": [
    {
     "data": {
      "text/plain": [
       "3647"
      ]
     },
     "execution_count": 38,
     "metadata": {},
     "output_type": "execute_result"
    }
   ],
   "source": [
    "len(x_validation)"
   ]
  },
  {
   "cell_type": "code",
   "execution_count": 39,
   "metadata": {},
   "outputs": [
    {
     "data": {
      "text/plain": [
       "3647"
      ]
     },
     "execution_count": 39,
     "metadata": {},
     "output_type": "execute_result"
    }
   ],
   "source": [
    "len(test)"
   ]
  },
  {
   "cell_type": "code",
   "execution_count": 46,
   "metadata": {},
   "outputs": [
    {
     "name": "stdout",
     "output_type": "stream",
     "text": [
      "mape modelo: 7.076099664578396   rmse modelo: 451.920222612009    mae modelo: 319.9697071633283\n"
     ]
    }
   ],
   "source": [
    "mape = Metrics.mape(test, np.array(y_hat_validation.iloc[-len(x_validation):,1].values))\n",
    "rmse = Metrics.rmse(test, np.array(y_hat_validation.iloc[-len(x_validation):,1].values))\n",
    "mae = Metrics.mae(test, np.array(y_hat_validation.iloc[-len(x_validation):,1].values))\n",
    "print('mape modelo: {}   rmse modelo: {}    mae modelo: {}'.format(mape,rmse,mae))"
   ]
  },
  {
   "cell_type": "code",
   "execution_count": 47,
   "metadata": {},
   "outputs": [
    {
     "ename": "ValueError",
     "evalue": "operands could not be broadcast together with shapes (43823,) (52583,) ",
     "output_type": "error",
     "traceback": [
      "\u001b[1;31m---------------------------------------------------------------------------\u001b[0m",
      "\u001b[1;31mValueError\u001b[0m                                Traceback (most recent call last)",
      "\u001b[1;32m<ipython-input-47-0af8b8a8a82e>\u001b[0m in \u001b[0;36m<module>\u001b[1;34m\u001b[0m\n\u001b[1;32m----> 1\u001b[1;33m \u001b[0mmape_train\u001b[0m \u001b[1;33m=\u001b[0m \u001b[0mMetrics\u001b[0m\u001b[1;33m.\u001b[0m\u001b[0mmape\u001b[0m\u001b[1;33m(\u001b[0m\u001b[0mtrain\u001b[0m\u001b[1;33m[\u001b[0m\u001b[1;36m1\u001b[0m\u001b[1;33m:\u001b[0m\u001b[1;33m]\u001b[0m\u001b[1;33m,\u001b[0m \u001b[0mnp\u001b[0m\u001b[1;33m.\u001b[0m\u001b[0marray\u001b[0m\u001b[1;33m(\u001b[0m\u001b[0my_hat_validation\u001b[0m\u001b[1;33m.\u001b[0m\u001b[0miloc\u001b[0m\u001b[1;33m[\u001b[0m\u001b[1;33m:\u001b[0m\u001b[1;33m-\u001b[0m\u001b[0mlen\u001b[0m\u001b[1;33m(\u001b[0m\u001b[0mx_validation\u001b[0m\u001b[1;33m)\u001b[0m\u001b[1;33m,\u001b[0m\u001b[1;36m0\u001b[0m\u001b[1;33m]\u001b[0m\u001b[1;33m.\u001b[0m\u001b[0mvalues\u001b[0m\u001b[1;33m)\u001b[0m\u001b[1;33m)\u001b[0m\u001b[1;33m\u001b[0m\u001b[1;33m\u001b[0m\u001b[0m\n\u001b[0m\u001b[0;32m      2\u001b[0m \u001b[0mrmse_train\u001b[0m \u001b[1;33m=\u001b[0m \u001b[0mMetrics\u001b[0m\u001b[1;33m.\u001b[0m\u001b[0mrmse\u001b[0m\u001b[1;33m(\u001b[0m\u001b[0mtrain\u001b[0m\u001b[1;33m[\u001b[0m\u001b[1;36m1\u001b[0m\u001b[1;33m:\u001b[0m\u001b[1;33m]\u001b[0m\u001b[1;33m,\u001b[0m \u001b[0mnp\u001b[0m\u001b[1;33m.\u001b[0m\u001b[0marray\u001b[0m\u001b[1;33m(\u001b[0m\u001b[0my_hat_validation\u001b[0m\u001b[1;33m.\u001b[0m\u001b[0miloc\u001b[0m\u001b[1;33m[\u001b[0m\u001b[1;33m:\u001b[0m\u001b[1;33m-\u001b[0m\u001b[0mlen\u001b[0m\u001b[1;33m(\u001b[0m\u001b[0mx_validation\u001b[0m\u001b[1;33m)\u001b[0m\u001b[1;33m,\u001b[0m\u001b[1;36m0\u001b[0m\u001b[1;33m]\u001b[0m\u001b[1;33m.\u001b[0m\u001b[0mvalues\u001b[0m\u001b[1;33m)\u001b[0m\u001b[1;33m)\u001b[0m\u001b[1;33m\u001b[0m\u001b[1;33m\u001b[0m\u001b[0m\n\u001b[0;32m      3\u001b[0m \u001b[0mmae_train\u001b[0m \u001b[1;33m=\u001b[0m \u001b[0mMetrics\u001b[0m\u001b[1;33m.\u001b[0m\u001b[0mmae\u001b[0m\u001b[1;33m(\u001b[0m\u001b[0mtrain\u001b[0m\u001b[1;33m[\u001b[0m\u001b[1;36m1\u001b[0m\u001b[1;33m:\u001b[0m\u001b[1;33m]\u001b[0m\u001b[1;33m,\u001b[0m \u001b[0mnp\u001b[0m\u001b[1;33m.\u001b[0m\u001b[0marray\u001b[0m\u001b[1;33m(\u001b[0m\u001b[0my_hat_validation\u001b[0m\u001b[1;33m.\u001b[0m\u001b[0miloc\u001b[0m\u001b[1;33m[\u001b[0m\u001b[1;33m:\u001b[0m\u001b[1;33m-\u001b[0m\u001b[0mlen\u001b[0m\u001b[1;33m(\u001b[0m\u001b[0mx_validation\u001b[0m\u001b[1;33m)\u001b[0m\u001b[1;33m,\u001b[0m\u001b[1;36m0\u001b[0m\u001b[1;33m]\u001b[0m\u001b[1;33m.\u001b[0m\u001b[0mvalues\u001b[0m\u001b[1;33m)\u001b[0m\u001b[1;33m)\u001b[0m\u001b[1;33m\u001b[0m\u001b[1;33m\u001b[0m\u001b[0m\n\u001b[0;32m      4\u001b[0m \u001b[1;33m\u001b[0m\u001b[0m\n\u001b[0;32m      5\u001b[0m \u001b[0mprint\u001b[0m\u001b[1;33m(\u001b[0m\u001b[1;34m'mape train: {}   rmse train: {}    mae train: {}'\u001b[0m\u001b[1;33m.\u001b[0m\u001b[0mformat\u001b[0m\u001b[1;33m(\u001b[0m\u001b[0mmape_train\u001b[0m\u001b[1;33m,\u001b[0m\u001b[0mrmse_train\u001b[0m\u001b[1;33m,\u001b[0m\u001b[0mmae_train\u001b[0m\u001b[1;33m)\u001b[0m\u001b[1;33m)\u001b[0m\u001b[1;33m\u001b[0m\u001b[1;33m\u001b[0m\u001b[0m\n",
      "\u001b[1;32m<ipython-input-5-0a4034c2d9a5>\u001b[0m in \u001b[0;36mmape\u001b[1;34m(real, predicted)\u001b[0m\n\u001b[0;32m     11\u001b[0m \u001b[1;33m\u001b[0m\u001b[0m\n\u001b[0;32m     12\u001b[0m   \u001b[1;32mdef\u001b[0m \u001b[0mmape\u001b[0m\u001b[1;33m(\u001b[0m\u001b[0mreal\u001b[0m\u001b[1;33m,\u001b[0m \u001b[0mpredicted\u001b[0m\u001b[1;33m)\u001b[0m\u001b[1;33m:\u001b[0m\u001b[1;33m\u001b[0m\u001b[1;33m\u001b[0m\u001b[0m\n\u001b[1;32m---> 13\u001b[1;33m     \u001b[1;32mreturn\u001b[0m \u001b[0mnp\u001b[0m\u001b[1;33m.\u001b[0m\u001b[0mmean\u001b[0m\u001b[1;33m(\u001b[0m\u001b[0mnp\u001b[0m\u001b[1;33m.\u001b[0m\u001b[0mabs\u001b[0m\u001b[1;33m(\u001b[0m\u001b[1;33m(\u001b[0m\u001b[0mreal\u001b[0m \u001b[1;33m-\u001b[0m \u001b[0mpredicted\u001b[0m\u001b[1;33m)\u001b[0m \u001b[1;33m/\u001b[0m \u001b[0mreal\u001b[0m\u001b[1;33m)\u001b[0m\u001b[1;33m)\u001b[0m \u001b[1;33m*\u001b[0m \u001b[1;36m100\u001b[0m\u001b[1;33m\u001b[0m\u001b[1;33m\u001b[0m\u001b[0m\n\u001b[0m\u001b[0;32m     14\u001b[0m \u001b[1;33m\u001b[0m\u001b[0m\n\u001b[0;32m     15\u001b[0m   \u001b[1;32mdef\u001b[0m \u001b[0mmae\u001b[0m\u001b[1;33m(\u001b[0m\u001b[0mreal\u001b[0m\u001b[1;33m,\u001b[0m \u001b[0mpredicted\u001b[0m\u001b[1;33m)\u001b[0m\u001b[1;33m:\u001b[0m\u001b[1;33m\u001b[0m\u001b[1;33m\u001b[0m\u001b[0m\n",
      "\u001b[1;31mValueError\u001b[0m: operands could not be broadcast together with shapes (43823,) (52583,) "
     ]
    }
   ],
   "source": [
    "mape_train = Metrics.mape(train[1:], np.array(y_hat_validation.iloc[:-len(x_validation),0].values))\n",
    "rmse_train = Metrics.rmse(train[1:], np.array(y_hat_validation.iloc[:-len(x_validation),0].values))\n",
    "mae_train = Metrics.mae(train[1:], np.array(y_hat_validation.iloc[:-len(x_validation),0].values))\n",
    "\n",
    "print('mape train: {}   rmse train: {}    mae train: {}'.format(mape_train,rmse_train,mae_train))"
   ]
  },
  {
   "cell_type": "code",
   "execution_count": 177,
   "metadata": {
    "scrolled": true
   },
   "outputs": [
    {
     "data": {
      "image/png": "[encoded data removed]",
      "text/plain": [
       "<Figure size 1080x648 with 1 Axes>"
      ]
     },
     "metadata": {},
     "output_type": "display_data"
    }
   ],
   "source": [
    "bayes.bayesianLSTM_plot2(np.array(validation[:50]),y_hat_validation[:50],'2020-02-01')"
   ]
  },
  {
   "cell_type": "markdown",
   "metadata": {},
   "source": [
    "### Evaluación en validation con Naive Model"
   ]
  },
  {
   "cell_type": "code",
   "execution_count": 26,
   "metadata": {},
   "outputs": [],
   "source": [
    "naive = Naive()"
   ]
  },
  {
   "cell_type": "code",
   "execution_count": 27,
   "metadata": {},
   "outputs": [],
   "source": [
    "train_validation_naive = np.concatenate((train,validation,test), axis = 0)"
   ]
  },
  {
   "cell_type": "code",
   "execution_count": 28,
   "metadata": {},
   "outputs": [],
   "source": [
    "data_naive = naive.create_data_set(train_validation_naive, len(train)+len(validation))"
   ]
  },
  {
   "cell_type": "code",
   "execution_count": 29,
   "metadata": {},
   "outputs": [],
   "source": [
    "x_train_naive = data_naive['x_train']\n",
    "y_train_naive = data_naive['y_train']\n",
    "\n",
    "x_test_naive = data_naive['x_test']\n",
    "y_test_naive = data_naive['y_test']"
   ]
  },
  {
   "cell_type": "code",
   "execution_count": 30,
   "metadata": {},
   "outputs": [
    {
     "data": {
      "text/plain": [
       "3647"
      ]
     },
     "execution_count": 30,
     "metadata": {},
     "output_type": "execute_result"
    }
   ],
   "source": [
    "len(y_test_naive)"
   ]
  },
  {
   "cell_type": "code",
   "execution_count": 31,
   "metadata": {},
   "outputs": [],
   "source": [
    "y_hat_naive= naive.prediction(x_test_naive)"
   ]
  },
  {
   "cell_type": "code",
   "execution_count": 32,
   "metadata": {},
   "outputs": [
    {
     "name": "stdout",
     "output_type": "stream",
     "text": [
      "mape modelo: 6.246657481316855   rmse modelo: 369.78920391272425    mae modelo: 277.90672004387164\n"
     ]
    }
   ],
   "source": [
    "mape_naive = Metrics.mape(test, y_hat_naive)\n",
    "rmse_naive = Metrics.rmse(test, y_hat_naive)\n",
    "mae_naive = Metrics.mae(test, y_hat_naive)\n",
    "print('mape modelo: {}   rmse modelo: {}    mae modelo: {}'.format(mape_naive,rmse_naive,mae_naive))"
   ]
  },
  {
   "cell_type": "markdown",
   "metadata": {},
   "source": [
    "# Conclusiones:\n",
    "\n",
    "Red Neuronal Final con mediana predicción de test -TEST:\n",
    "\n",
    "mape modelo: 5.557390364393868   \n",
    "rmse modelo: 418.5406326006628    \n",
    "mae modelo: 298.75803136842194\n",
    "\n",
    "Red Neuronal Final con media predicción de train -TEST:\n",
    "\n",
    "mape en train: NA    \n",
    "rmse en train: NA    \n",
    "mae en train: NA\n",
    "\n",
    "Red Neuronal Validación con media predicción de validation -VALIDATION:\n",
    "\n",
    "mape modelo:   \n",
    "rmse modelo:    \n",
    "mae modelo:\n",
    "\n",
    "Red Neuronal Validación con media predicción de train -VALIDATION:\n",
    "\n",
    "mape train:  \n",
    "rmse train:    \n",
    "mae train: \n",
    "\n",
    "#### Por lo anterior, se puede decir que: \n",
    "\n",
    "Modelo Naive Final sobre TEST:\n",
    "\n",
    "mape modelo: 6.246657481316855   \n",
    "rmse modelo: 369.78920391272425\n",
    "mae modelo: 369.78920391272425\n",
    "\n",
    "Modelo Naive Final sobre VALIDATION:\n",
    "\n",
    "mape modelo: 6.246657481316855   \n",
    "rmse modelo: 369.78920391272425    \n",
    "mae modelo: 277.90672004387164"
   ]
  },
  {
   "cell_type": "markdown",
   "metadata": {},
   "source": [
    "# Ahora medir la calidad de la incertidumbre"
   ]
  },
  {
   "cell_type": "code",
   "execution_count": null,
   "metadata": {},
   "outputs": [],
   "source": [
    "bounds_df = pd.DataFrame()\n",
    "\n",
    "# Using 99% confidence bounds\n",
    "bounds_df['lower_bound'] = test_uncertainty_plot_df['lower_bound']\n",
    "bounds_df['prediction'] = test_uncertainty_plot_df['log_energy_consumption_mean']\n",
    "bounds_df['real_value'] = truth_uncertainty_plot_df['log_energy_consumption']\n",
    "bounds_df['upper_bound'] = test_uncertainty_plot_df['upper_bound']\n",
    "\n",
    "bounds_df['contained'] = ((bounds_df['real_value'] >= bounds_df['lower_bound']) &\n",
    "                          (bounds_df['real_value'] <= bounds_df['upper_bound']))\n",
    "\n",
    "print(\"Proportion of points contained within 99% confidence interval:\", \n",
    "      bounds_df['contained'].mean())"
   ]
  },
  {
   "cell_type": "code",
   "execution_count": 56,
   "metadata": {
    "collapsed": true
   },
   "outputs": [
    {
     "data": {
      "text/html": [
       "<div>\n",
       "<style scoped>\n",
       "    .dataframe tbody tr th:only-of-type {\n",
       "        vertical-align: middle;\n",
       "    }\n",
       "\n",
       "    .dataframe tbody tr th {\n",
       "        vertical-align: top;\n",
       "    }\n",
       "\n",
       "    .dataframe thead th {\n",
       "        text-align: right;\n",
       "    }\n",
       "</style>\n",
       "<table border=\"1\" class=\"dataframe\">\n",
       "  <thead>\n",
       "    <tr style=\"text-align: right;\">\n",
       "      <th></th>\n",
       "      <th>generation_mean</th>\n",
       "      <th>generation_std</th>\n",
       "    </tr>\n",
       "  </thead>\n",
       "  <tbody>\n",
       "    <tr>\n",
       "      <th>0</th>\n",
       "      <td>13641.388672</td>\n",
       "      <td>908.018372</td>\n",
       "    </tr>\n",
       "    <tr>\n",
       "      <th>1</th>\n",
       "      <td>9319.507812</td>\n",
       "      <td>390.871979</td>\n",
       "    </tr>\n",
       "    <tr>\n",
       "      <th>2</th>\n",
       "      <td>10607.530273</td>\n",
       "      <td>419.082550</td>\n",
       "    </tr>\n",
       "    <tr>\n",
       "      <th>3</th>\n",
       "      <td>10119.757812</td>\n",
       "      <td>328.243225</td>\n",
       "    </tr>\n",
       "    <tr>\n",
       "      <th>4</th>\n",
       "      <td>10206.278320</td>\n",
       "      <td>344.272400</td>\n",
       "    </tr>\n",
       "    <tr>\n",
       "      <th>5</th>\n",
       "      <td>9953.979492</td>\n",
       "      <td>314.687103</td>\n",
       "    </tr>\n",
       "    <tr>\n",
       "      <th>6</th>\n",
       "      <td>9450.442383</td>\n",
       "      <td>311.451843</td>\n",
       "    </tr>\n",
       "    <tr>\n",
       "      <th>7</th>\n",
       "      <td>9398.833984</td>\n",
       "      <td>287.750549</td>\n",
       "    </tr>\n",
       "    <tr>\n",
       "      <th>8</th>\n",
       "      <td>9654.207031</td>\n",
       "      <td>317.650360</td>\n",
       "    </tr>\n",
       "    <tr>\n",
       "      <th>9</th>\n",
       "      <td>8146.419922</td>\n",
       "      <td>179.636627</td>\n",
       "    </tr>\n",
       "    <tr>\n",
       "      <th>10</th>\n",
       "      <td>8717.752930</td>\n",
       "      <td>244.138138</td>\n",
       "    </tr>\n",
       "    <tr>\n",
       "      <th>11</th>\n",
       "      <td>9689.630859</td>\n",
       "      <td>343.634888</td>\n",
       "    </tr>\n",
       "    <tr>\n",
       "      <th>12</th>\n",
       "      <td>10238.207031</td>\n",
       "      <td>387.251434</td>\n",
       "    </tr>\n",
       "    <tr>\n",
       "      <th>13</th>\n",
       "      <td>10477.262695</td>\n",
       "      <td>350.497620</td>\n",
       "    </tr>\n",
       "    <tr>\n",
       "      <th>14</th>\n",
       "      <td>10451.934570</td>\n",
       "      <td>330.382965</td>\n",
       "    </tr>\n",
       "    <tr>\n",
       "      <th>15</th>\n",
       "      <td>10991.566406</td>\n",
       "      <td>400.565826</td>\n",
       "    </tr>\n",
       "    <tr>\n",
       "      <th>16</th>\n",
       "      <td>10906.780273</td>\n",
       "      <td>435.799011</td>\n",
       "    </tr>\n",
       "    <tr>\n",
       "      <th>17</th>\n",
       "      <td>11710.683594</td>\n",
       "      <td>516.851013</td>\n",
       "    </tr>\n",
       "    <tr>\n",
       "      <th>18</th>\n",
       "      <td>11232.096680</td>\n",
       "      <td>403.787262</td>\n",
       "    </tr>\n",
       "    <tr>\n",
       "      <th>19</th>\n",
       "      <td>11477.199219</td>\n",
       "      <td>455.450134</td>\n",
       "    </tr>\n",
       "    <tr>\n",
       "      <th>20</th>\n",
       "      <td>11776.257812</td>\n",
       "      <td>498.947327</td>\n",
       "    </tr>\n",
       "    <tr>\n",
       "      <th>21</th>\n",
       "      <td>11677.451172</td>\n",
       "      <td>452.438293</td>\n",
       "    </tr>\n",
       "    <tr>\n",
       "      <th>22</th>\n",
       "      <td>12096.539062</td>\n",
       "      <td>461.426758</td>\n",
       "    </tr>\n",
       "    <tr>\n",
       "      <th>23</th>\n",
       "      <td>12538.980469</td>\n",
       "      <td>536.689148</td>\n",
       "    </tr>\n",
       "    <tr>\n",
       "      <th>24</th>\n",
       "      <td>12736.755859</td>\n",
       "      <td>534.019104</td>\n",
       "    </tr>\n",
       "    <tr>\n",
       "      <th>25</th>\n",
       "      <td>10765.702148</td>\n",
       "      <td>463.002197</td>\n",
       "    </tr>\n",
       "    <tr>\n",
       "      <th>26</th>\n",
       "      <td>10537.561523</td>\n",
       "      <td>392.467834</td>\n",
       "    </tr>\n",
       "    <tr>\n",
       "      <th>27</th>\n",
       "      <td>8641.488281</td>\n",
       "      <td>233.175766</td>\n",
       "    </tr>\n",
       "    <tr>\n",
       "      <th>28</th>\n",
       "      <td>8885.668945</td>\n",
       "      <td>265.753357</td>\n",
       "    </tr>\n",
       "    <tr>\n",
       "      <th>29</th>\n",
       "      <td>9877.675781</td>\n",
       "      <td>296.114807</td>\n",
       "    </tr>\n",
       "    <tr>\n",
       "      <th>...</th>\n",
       "      <td>...</td>\n",
       "      <td>...</td>\n",
       "    </tr>\n",
       "    <tr>\n",
       "      <th>56200</th>\n",
       "      <td>4077.771484</td>\n",
       "      <td>118.530968</td>\n",
       "    </tr>\n",
       "    <tr>\n",
       "      <th>56201</th>\n",
       "      <td>4357.626465</td>\n",
       "      <td>115.417107</td>\n",
       "    </tr>\n",
       "    <tr>\n",
       "      <th>56202</th>\n",
       "      <td>4576.632324</td>\n",
       "      <td>96.199265</td>\n",
       "    </tr>\n",
       "    <tr>\n",
       "      <th>56203</th>\n",
       "      <td>4609.940430</td>\n",
       "      <td>94.968849</td>\n",
       "    </tr>\n",
       "    <tr>\n",
       "      <th>56204</th>\n",
       "      <td>5404.230469</td>\n",
       "      <td>96.346024</td>\n",
       "    </tr>\n",
       "    <tr>\n",
       "      <th>56205</th>\n",
       "      <td>5679.539551</td>\n",
       "      <td>77.556473</td>\n",
       "    </tr>\n",
       "    <tr>\n",
       "      <th>56206</th>\n",
       "      <td>5352.341797</td>\n",
       "      <td>69.833672</td>\n",
       "    </tr>\n",
       "    <tr>\n",
       "      <th>56207</th>\n",
       "      <td>5081.593750</td>\n",
       "      <td>71.312416</td>\n",
       "    </tr>\n",
       "    <tr>\n",
       "      <th>56208</th>\n",
       "      <td>4979.615723</td>\n",
       "      <td>78.999306</td>\n",
       "    </tr>\n",
       "    <tr>\n",
       "      <th>56209</th>\n",
       "      <td>4424.462891</td>\n",
       "      <td>110.484322</td>\n",
       "    </tr>\n",
       "    <tr>\n",
       "      <th>56210</th>\n",
       "      <td>4020.925049</td>\n",
       "      <td>123.047775</td>\n",
       "    </tr>\n",
       "    <tr>\n",
       "      <th>56211</th>\n",
       "      <td>3815.446045</td>\n",
       "      <td>131.980438</td>\n",
       "    </tr>\n",
       "    <tr>\n",
       "      <th>56212</th>\n",
       "      <td>3403.729492</td>\n",
       "      <td>174.600220</td>\n",
       "    </tr>\n",
       "    <tr>\n",
       "      <th>56213</th>\n",
       "      <td>3310.280029</td>\n",
       "      <td>175.892990</td>\n",
       "    </tr>\n",
       "    <tr>\n",
       "      <th>56214</th>\n",
       "      <td>2838.478760</td>\n",
       "      <td>222.768890</td>\n",
       "    </tr>\n",
       "    <tr>\n",
       "      <th>56215</th>\n",
       "      <td>2501.790527</td>\n",
       "      <td>226.243698</td>\n",
       "    </tr>\n",
       "    <tr>\n",
       "      <th>56216</th>\n",
       "      <td>2637.426025</td>\n",
       "      <td>238.777237</td>\n",
       "    </tr>\n",
       "    <tr>\n",
       "      <th>56217</th>\n",
       "      <td>2451.812256</td>\n",
       "      <td>214.440964</td>\n",
       "    </tr>\n",
       "    <tr>\n",
       "      <th>56218</th>\n",
       "      <td>3889.854736</td>\n",
       "      <td>158.325958</td>\n",
       "    </tr>\n",
       "    <tr>\n",
       "      <th>56219</th>\n",
       "      <td>4193.573242</td>\n",
       "      <td>107.617935</td>\n",
       "    </tr>\n",
       "    <tr>\n",
       "      <th>56220</th>\n",
       "      <td>3209.544434</td>\n",
       "      <td>178.836914</td>\n",
       "    </tr>\n",
       "    <tr>\n",
       "      <th>56221</th>\n",
       "      <td>3119.709717</td>\n",
       "      <td>195.552322</td>\n",
       "    </tr>\n",
       "    <tr>\n",
       "      <th>56222</th>\n",
       "      <td>3970.210205</td>\n",
       "      <td>133.054626</td>\n",
       "    </tr>\n",
       "    <tr>\n",
       "      <th>56223</th>\n",
       "      <td>3961.796143</td>\n",
       "      <td>124.594978</td>\n",
       "    </tr>\n",
       "    <tr>\n",
       "      <th>56224</th>\n",
       "      <td>5655.448242</td>\n",
       "      <td>133.298431</td>\n",
       "    </tr>\n",
       "    <tr>\n",
       "      <th>56225</th>\n",
       "      <td>4529.730957</td>\n",
       "      <td>131.551590</td>\n",
       "    </tr>\n",
       "    <tr>\n",
       "      <th>56226</th>\n",
       "      <td>4374.655762</td>\n",
       "      <td>101.371529</td>\n",
       "    </tr>\n",
       "    <tr>\n",
       "      <th>56227</th>\n",
       "      <td>3159.924072</td>\n",
       "      <td>206.276138</td>\n",
       "    </tr>\n",
       "    <tr>\n",
       "      <th>56228</th>\n",
       "      <td>3673.099365</td>\n",
       "      <td>175.165100</td>\n",
       "    </tr>\n",
       "    <tr>\n",
       "      <th>56229</th>\n",
       "      <td>3428.344727</td>\n",
       "      <td>179.387726</td>\n",
       "    </tr>\n",
       "  </tbody>\n",
       "</table>\n",
       "<p>56230 rows × 2 columns</p>\n",
       "</div>"
      ],
      "text/plain": [
       "       generation_mean  generation_std\n",
       "0         13641.388672      908.018372\n",
       "1          9319.507812      390.871979\n",
       "2         10607.530273      419.082550\n",
       "3         10119.757812      328.243225\n",
       "4         10206.278320      344.272400\n",
       "5          9953.979492      314.687103\n",
       "6          9450.442383      311.451843\n",
       "7          9398.833984      287.750549\n",
       "8          9654.207031      317.650360\n",
       "9          8146.419922      179.636627\n",
       "10         8717.752930      244.138138\n",
       "11         9689.630859      343.634888\n",
       "12        10238.207031      387.251434\n",
       "13        10477.262695      350.497620\n",
       "14        10451.934570      330.382965\n",
       "15        10991.566406      400.565826\n",
       "16        10906.780273      435.799011\n",
       "17        11710.683594      516.851013\n",
       "18        11232.096680      403.787262\n",
       "19        11477.199219      455.450134\n",
       "20        11776.257812      498.947327\n",
       "21        11677.451172      452.438293\n",
       "22        12096.539062      461.426758\n",
       "23        12538.980469      536.689148\n",
       "24        12736.755859      534.019104\n",
       "25        10765.702148      463.002197\n",
       "26        10537.561523      392.467834\n",
       "27         8641.488281      233.175766\n",
       "28         8885.668945      265.753357\n",
       "29         9877.675781      296.114807\n",
       "...                ...             ...\n",
       "56200      4077.771484      118.530968\n",
       "56201      4357.626465      115.417107\n",
       "56202      4576.632324       96.199265\n",
       "56203      4609.940430       94.968849\n",
       "56204      5404.230469       96.346024\n",
       "56205      5679.539551       77.556473\n",
       "56206      5352.341797       69.833672\n",
       "56207      5081.593750       71.312416\n",
       "56208      4979.615723       78.999306\n",
       "56209      4424.462891      110.484322\n",
       "56210      4020.925049      123.047775\n",
       "56211      3815.446045      131.980438\n",
       "56212      3403.729492      174.600220\n",
       "56213      3310.280029      175.892990\n",
       "56214      2838.478760      222.768890\n",
       "56215      2501.790527      226.243698\n",
       "56216      2637.426025      238.777237\n",
       "56217      2451.812256      214.440964\n",
       "56218      3889.854736      158.325958\n",
       "56219      4193.573242      107.617935\n",
       "56220      3209.544434      178.836914\n",
       "56221      3119.709717      195.552322\n",
       "56222      3970.210205      133.054626\n",
       "56223      3961.796143      124.594978\n",
       "56224      5655.448242      133.298431\n",
       "56225      4529.730957      131.551590\n",
       "56226      4374.655762      101.371529\n",
       "56227      3159.924072      206.276138\n",
       "56228      3673.099365      175.165100\n",
       "56229      3428.344727      179.387726\n",
       "\n",
       "[56230 rows x 2 columns]"
      ]
     },
     "execution_count": 56,
     "metadata": {},
     "output_type": "execute_result"
    }
   ],
   "source": [
    "y_hat_validation"
   ]
  },
  {
   "cell_type": "code",
   "execution_count": 60,
   "metadata": {},
   "outputs": [
    {
     "data": {
      "text/plain": [
       "56230"
      ]
     },
     "execution_count": 60,
     "metadata": {},
     "output_type": "execute_result"
    }
   ],
   "source": [
    "len(y_hat_validation)"
   ]
  },
  {
   "cell_type": "code",
   "execution_count": 61,
   "metadata": {
    "scrolled": true
   },
   "outputs": [
    {
     "data": {
      "text/plain": [
       "56231"
      ]
     },
     "execution_count": 61,
     "metadata": {},
     "output_type": "execute_result"
    }
   ],
   "source": [
    "len(train)+len(validation)+len(test)"
   ]
  },
  {
   "cell_type": "code",
   "execution_count": 67,
   "metadata": {
    "collapsed": true
   },
   "outputs": [
    {
     "data": {
      "text/plain": [
       "0     13641.388672\n",
       "1      9319.507812\n",
       "2     10607.530273\n",
       "3     10119.757812\n",
       "4     10206.278320\n",
       "5      9953.979492\n",
       "6      9450.442383\n",
       "7      9398.833984\n",
       "8      9654.207031\n",
       "9      8146.419922\n",
       "10     8717.752930\n",
       "11     9689.630859\n",
       "12    10238.207031\n",
       "13    10477.262695\n",
       "14    10451.934570\n",
       "15    10991.566406\n",
       "16    10906.780273\n",
       "17    11710.683594\n",
       "18    11232.096680\n",
       "19    11477.199219\n",
       "20    11776.257812\n",
       "21    11677.451172\n",
       "22    12096.539062\n",
       "23    12538.980469\n",
       "Name: generation_mean, dtype: float32"
      ]
     },
     "execution_count": 67,
     "metadata": {},
     "output_type": "execute_result"
    }
   ],
   "source": [
    "y_hat_validation.iloc[0:24,0]"
   ]
  },
  {
   "cell_type": "code",
   "execution_count": 41,
   "metadata": {},
   "outputs": [
    {
     "name": "stdout",
     "output_type": "stream",
     "text": [
      "Proportion of points contained within 99% confidence interval: 0.927611735673156\n"
     ]
    }
   ],
   "source": [
    "bounds_df = pd.DataFrame()\n",
    "\n",
    "bounds_df['lower_bound'] = y_hat_validation.iloc[-len(test):,0] - 3*y_hat_validation.iloc[-len(test):,2]\n",
    "bounds_df['upper_bound'] = y_hat_validation.iloc[-len(test):,0] + 3*y_hat_validation.iloc[-len(test):,2]\n",
    "bounds_df['real'] = np.array(test)\n",
    "bounds_df['contained'] = ((bounds_df['real'] >= bounds_df['lower_bound']) &\n",
    "                          (bounds_df['real'] <= bounds_df['upper_bound']))\n",
    "\n",
    "print(\"Proportion of points contained within 99% confidence interval:\", \n",
    "      bounds_df['contained'].mean())"
   ]
  }
 ],
 "metadata": {
  "kernelspec": {
   "display_name": "Python 3",
   "language": "python",
   "name": "python3"
  },
  "language_info": {
   "codemirror_mode": {
    "name": "ipython",
    "version": 3
   },
   "file_extension": ".py",
   "mimetype": "text/x-python",
   "name": "python",
   "nbconvert_exporter": "python",
   "pygments_lexer": "ipython3",
   "version": "3.7.3"
  }
 },
 "nbformat": 4,
 "nbformat_minor": 2
}
